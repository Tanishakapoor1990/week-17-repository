{
 "cells": [
  {
   "cell_type": "markdown",
   "id": "8a789bac",
   "metadata": {},
   "source": [
    "## Dataset Overview "
   ]
  },
  {
   "cell_type": "markdown",
   "id": "63b3e3d0",
   "metadata": {},
   "source": [
    "The dataset consists of 14 feature variables and 1 class label that quantifies the approval decision. Not much is known about the 14 features themselves for the sake of confidentiality and for convenience of processing statistical algorithms.\n",
    "\n",
    "This means that even the feature names are not present, but whether they are continuous or categorical is known. I have similarly labelled which columns are continuous (N), categorical (C).\n",
    "\n",
    "Building the Binary Classification model to predict if the credit was approved to a particular customer or rejected."
   ]
  },
  {
   "cell_type": "markdown",
   "id": "0ebb2e83",
   "metadata": {},
   "source": [
    "## 1.\tPreprocess your dataset. Indicate which steps worked and which didn’t. Include your thoughts on why certain steps worked and certain steps didn’t. "
   ]
  },
  {
   "cell_type": "code",
   "execution_count": 1,
   "id": "194bdde8",
   "metadata": {},
   "outputs": [
    {
     "data": {
      "text/html": [
       "<div>\n",
       "<style scoped>\n",
       "    .dataframe tbody tr th:only-of-type {\n",
       "        vertical-align: middle;\n",
       "    }\n",
       "\n",
       "    .dataframe tbody tr th {\n",
       "        vertical-align: top;\n",
       "    }\n",
       "\n",
       "    .dataframe thead th {\n",
       "        text-align: right;\n",
       "    }\n",
       "</style>\n",
       "<table border=\"1\" class=\"dataframe\">\n",
       "  <thead>\n",
       "    <tr style=\"text-align: right;\">\n",
       "      <th></th>\n",
       "      <th>A1</th>\n",
       "      <th>A2</th>\n",
       "      <th>A3</th>\n",
       "      <th>A4</th>\n",
       "      <th>A5</th>\n",
       "      <th>A6</th>\n",
       "      <th>A7</th>\n",
       "      <th>A8</th>\n",
       "      <th>A9</th>\n",
       "      <th>A10</th>\n",
       "      <th>A11</th>\n",
       "      <th>A12</th>\n",
       "      <th>A13</th>\n",
       "      <th>A14</th>\n",
       "      <th>Target</th>\n",
       "    </tr>\n",
       "  </thead>\n",
       "  <tbody>\n",
       "    <tr>\n",
       "      <th>0</th>\n",
       "      <td>1</td>\n",
       "      <td>22.08</td>\n",
       "      <td>11.460</td>\n",
       "      <td>2</td>\n",
       "      <td>4</td>\n",
       "      <td>4</td>\n",
       "      <td>1.585</td>\n",
       "      <td>0</td>\n",
       "      <td>0</td>\n",
       "      <td>0</td>\n",
       "      <td>1</td>\n",
       "      <td>2</td>\n",
       "      <td>100</td>\n",
       "      <td>1213</td>\n",
       "      <td>0</td>\n",
       "    </tr>\n",
       "    <tr>\n",
       "      <th>1</th>\n",
       "      <td>0</td>\n",
       "      <td>22.67</td>\n",
       "      <td>7.000</td>\n",
       "      <td>2</td>\n",
       "      <td>8</td>\n",
       "      <td>4</td>\n",
       "      <td>0.165</td>\n",
       "      <td>0</td>\n",
       "      <td>0</td>\n",
       "      <td>0</td>\n",
       "      <td>0</td>\n",
       "      <td>2</td>\n",
       "      <td>160</td>\n",
       "      <td>1</td>\n",
       "      <td>0</td>\n",
       "    </tr>\n",
       "    <tr>\n",
       "      <th>2</th>\n",
       "      <td>0</td>\n",
       "      <td>29.58</td>\n",
       "      <td>1.750</td>\n",
       "      <td>1</td>\n",
       "      <td>4</td>\n",
       "      <td>4</td>\n",
       "      <td>1.250</td>\n",
       "      <td>0</td>\n",
       "      <td>0</td>\n",
       "      <td>0</td>\n",
       "      <td>1</td>\n",
       "      <td>2</td>\n",
       "      <td>280</td>\n",
       "      <td>1</td>\n",
       "      <td>0</td>\n",
       "    </tr>\n",
       "    <tr>\n",
       "      <th>3</th>\n",
       "      <td>0</td>\n",
       "      <td>21.67</td>\n",
       "      <td>11.500</td>\n",
       "      <td>1</td>\n",
       "      <td>5</td>\n",
       "      <td>3</td>\n",
       "      <td>0.000</td>\n",
       "      <td>1</td>\n",
       "      <td>1</td>\n",
       "      <td>11</td>\n",
       "      <td>1</td>\n",
       "      <td>2</td>\n",
       "      <td>0</td>\n",
       "      <td>1</td>\n",
       "      <td>1</td>\n",
       "    </tr>\n",
       "    <tr>\n",
       "      <th>4</th>\n",
       "      <td>1</td>\n",
       "      <td>20.17</td>\n",
       "      <td>8.170</td>\n",
       "      <td>2</td>\n",
       "      <td>6</td>\n",
       "      <td>4</td>\n",
       "      <td>1.960</td>\n",
       "      <td>1</td>\n",
       "      <td>1</td>\n",
       "      <td>14</td>\n",
       "      <td>0</td>\n",
       "      <td>2</td>\n",
       "      <td>60</td>\n",
       "      <td>159</td>\n",
       "      <td>1</td>\n",
       "    </tr>\n",
       "    <tr>\n",
       "      <th>...</th>\n",
       "      <td>...</td>\n",
       "      <td>...</td>\n",
       "      <td>...</td>\n",
       "      <td>...</td>\n",
       "      <td>...</td>\n",
       "      <td>...</td>\n",
       "      <td>...</td>\n",
       "      <td>...</td>\n",
       "      <td>...</td>\n",
       "      <td>...</td>\n",
       "      <td>...</td>\n",
       "      <td>...</td>\n",
       "      <td>...</td>\n",
       "      <td>...</td>\n",
       "      <td>...</td>\n",
       "    </tr>\n",
       "    <tr>\n",
       "      <th>685</th>\n",
       "      <td>1</td>\n",
       "      <td>31.57</td>\n",
       "      <td>10.500</td>\n",
       "      <td>2</td>\n",
       "      <td>14</td>\n",
       "      <td>4</td>\n",
       "      <td>6.500</td>\n",
       "      <td>1</td>\n",
       "      <td>0</td>\n",
       "      <td>0</td>\n",
       "      <td>0</td>\n",
       "      <td>2</td>\n",
       "      <td>0</td>\n",
       "      <td>1</td>\n",
       "      <td>1</td>\n",
       "    </tr>\n",
       "    <tr>\n",
       "      <th>686</th>\n",
       "      <td>1</td>\n",
       "      <td>20.67</td>\n",
       "      <td>0.415</td>\n",
       "      <td>2</td>\n",
       "      <td>8</td>\n",
       "      <td>4</td>\n",
       "      <td>0.125</td>\n",
       "      <td>0</td>\n",
       "      <td>0</td>\n",
       "      <td>0</td>\n",
       "      <td>0</td>\n",
       "      <td>2</td>\n",
       "      <td>0</td>\n",
       "      <td>45</td>\n",
       "      <td>0</td>\n",
       "    </tr>\n",
       "    <tr>\n",
       "      <th>687</th>\n",
       "      <td>0</td>\n",
       "      <td>18.83</td>\n",
       "      <td>9.540</td>\n",
       "      <td>2</td>\n",
       "      <td>6</td>\n",
       "      <td>4</td>\n",
       "      <td>0.085</td>\n",
       "      <td>1</td>\n",
       "      <td>0</td>\n",
       "      <td>0</td>\n",
       "      <td>0</td>\n",
       "      <td>2</td>\n",
       "      <td>100</td>\n",
       "      <td>1</td>\n",
       "      <td>1</td>\n",
       "    </tr>\n",
       "    <tr>\n",
       "      <th>688</th>\n",
       "      <td>0</td>\n",
       "      <td>27.42</td>\n",
       "      <td>14.500</td>\n",
       "      <td>2</td>\n",
       "      <td>14</td>\n",
       "      <td>8</td>\n",
       "      <td>3.085</td>\n",
       "      <td>1</td>\n",
       "      <td>1</td>\n",
       "      <td>1</td>\n",
       "      <td>0</td>\n",
       "      <td>2</td>\n",
       "      <td>120</td>\n",
       "      <td>12</td>\n",
       "      <td>1</td>\n",
       "    </tr>\n",
       "    <tr>\n",
       "      <th>689</th>\n",
       "      <td>1</td>\n",
       "      <td>41.00</td>\n",
       "      <td>0.040</td>\n",
       "      <td>2</td>\n",
       "      <td>10</td>\n",
       "      <td>4</td>\n",
       "      <td>0.040</td>\n",
       "      <td>0</td>\n",
       "      <td>1</td>\n",
       "      <td>1</td>\n",
       "      <td>0</td>\n",
       "      <td>1</td>\n",
       "      <td>560</td>\n",
       "      <td>1</td>\n",
       "      <td>1</td>\n",
       "    </tr>\n",
       "  </tbody>\n",
       "</table>\n",
       "<p>690 rows × 15 columns</p>\n",
       "</div>"
      ],
      "text/plain": [
       "     A1     A2      A3  A4  A5  A6     A7  A8  A9  A10  A11  A12  A13   A14  \\\n",
       "0     1  22.08  11.460   2   4   4  1.585   0   0    0    1    2  100  1213   \n",
       "1     0  22.67   7.000   2   8   4  0.165   0   0    0    0    2  160     1   \n",
       "2     0  29.58   1.750   1   4   4  1.250   0   0    0    1    2  280     1   \n",
       "3     0  21.67  11.500   1   5   3  0.000   1   1   11    1    2    0     1   \n",
       "4     1  20.17   8.170   2   6   4  1.960   1   1   14    0    2   60   159   \n",
       "..   ..    ...     ...  ..  ..  ..    ...  ..  ..  ...  ...  ...  ...   ...   \n",
       "685   1  31.57  10.500   2  14   4  6.500   1   0    0    0    2    0     1   \n",
       "686   1  20.67   0.415   2   8   4  0.125   0   0    0    0    2    0    45   \n",
       "687   0  18.83   9.540   2   6   4  0.085   1   0    0    0    2  100     1   \n",
       "688   0  27.42  14.500   2  14   8  3.085   1   1    1    0    2  120    12   \n",
       "689   1  41.00   0.040   2  10   4  0.040   0   1    1    0    1  560     1   \n",
       "\n",
       "     Target  \n",
       "0         0  \n",
       "1         0  \n",
       "2         0  \n",
       "3         1  \n",
       "4         1  \n",
       "..      ...  \n",
       "685       1  \n",
       "686       0  \n",
       "687       1  \n",
       "688       1  \n",
       "689       1  \n",
       "\n",
       "[690 rows x 15 columns]"
      ]
     },
     "execution_count": 1,
     "metadata": {},
     "output_type": "execute_result"
    }
   ],
   "source": [
    "#Reading data into pandas and renaming the columns:\n",
    "import pandas as pd \n",
    "credit_df = pd.read_csv('Australian.CSV',header=None,names=['A1','A2','A3','A4','A5','A6','A7','A8','A9','A10','A11','A12','A13','A14','Target'])\n",
    "credit_df"
   ]
  },
  {
   "cell_type": "code",
   "execution_count": 2,
   "id": "528cbde9",
   "metadata": {},
   "outputs": [
    {
     "data": {
      "image/png": "[encoded data removed]",
      "text/plain": [
       "<Figure size 720x432 with 1 Axes>"
      ]
     },
     "metadata": {
      "needs_background": "light"
     },
     "output_type": "display_data"
    }
   ],
   "source": [
    "#there's a slight imbalance in the target 'class' \n",
    "#Visualizing the target 'class' distribution \n",
    "import seaborn as sns\n",
    "import matplotlib.pyplot as plt   \n",
    "plt.figure(figsize=(10,6))\n",
    "plt.hist(credit_df['Target'], bins='auto')\n",
    "plt.title('Target Distribution')\n",
    "plt.xticks([0,1])\n",
    "plt.show();"
   ]
  },
  {
   "cell_type": "code",
   "execution_count": 10,
   "id": "44cc75ab",
   "metadata": {},
   "outputs": [
    {
     "data": {
      "text/plain": [
       "0    383\n",
       "1    307\n",
       "Name: Target, dtype: int64"
      ]
     },
     "execution_count": 10,
     "metadata": {},
     "output_type": "execute_result"
    }
   ],
   "source": [
    "#there's a slight imbalance in the target class  \n",
    "credit_df['Target'].value_counts()"
   ]
  },
  {
   "cell_type": "code",
   "execution_count": 3,
   "id": "3bd89e81",
   "metadata": {},
   "outputs": [
    {
     "name": "stdout",
     "output_type": "stream",
     "text": [
      "<class 'pandas.core.frame.DataFrame'>\n",
      "RangeIndex: 690 entries, 0 to 689\n",
      "Data columns (total 15 columns):\n",
      " #   Column  Non-Null Count  Dtype  \n",
      "---  ------  --------------  -----  \n",
      " 0   A1      690 non-null    int64  \n",
      " 1   A2      690 non-null    float64\n",
      " 2   A3      690 non-null    float64\n",
      " 3   A4      690 non-null    int64  \n",
      " 4   A5      690 non-null    int64  \n",
      " 5   A6      690 non-null    int64  \n",
      " 6   A7      690 non-null    float64\n",
      " 7   A8      690 non-null    int64  \n",
      " 8   A9      690 non-null    int64  \n",
      " 9   A10     690 non-null    int64  \n",
      " 10  A11     690 non-null    int64  \n",
      " 11  A12     690 non-null    int64  \n",
      " 12  A13     690 non-null    int64  \n",
      " 13  A14     690 non-null    int64  \n",
      " 14  Target  690 non-null    int64  \n",
      "dtypes: float64(3), int64(12)\n",
      "memory usage: 81.0 KB\n"
     ]
    }
   ],
   "source": [
    "credit_df.info()"
   ]
  },
  {
   "cell_type": "code",
   "execution_count": 4,
   "id": "2db8714b",
   "metadata": {},
   "outputs": [
    {
     "data": {
      "text/html": [
       "<div>\n",
       "<style scoped>\n",
       "    .dataframe tbody tr th:only-of-type {\n",
       "        vertical-align: middle;\n",
       "    }\n",
       "\n",
       "    .dataframe tbody tr th {\n",
       "        vertical-align: top;\n",
       "    }\n",
       "\n",
       "    .dataframe thead th {\n",
       "        text-align: right;\n",
       "    }\n",
       "</style>\n",
       "<table border=\"1\" class=\"dataframe\">\n",
       "  <thead>\n",
       "    <tr style=\"text-align: right;\">\n",
       "      <th></th>\n",
       "      <th>A1</th>\n",
       "      <th>A2</th>\n",
       "      <th>A3</th>\n",
       "      <th>A4</th>\n",
       "      <th>A5</th>\n",
       "      <th>A6</th>\n",
       "      <th>A7</th>\n",
       "      <th>A8</th>\n",
       "      <th>A9</th>\n",
       "      <th>A10</th>\n",
       "      <th>A11</th>\n",
       "      <th>A12</th>\n",
       "      <th>A13</th>\n",
       "      <th>A14</th>\n",
       "      <th>Target</th>\n",
       "    </tr>\n",
       "  </thead>\n",
       "  <tbody>\n",
       "    <tr>\n",
       "      <th>count</th>\n",
       "      <td>690.000000</td>\n",
       "      <td>690.000000</td>\n",
       "      <td>690.000000</td>\n",
       "      <td>690.000000</td>\n",
       "      <td>690.000000</td>\n",
       "      <td>690.000000</td>\n",
       "      <td>690.000000</td>\n",
       "      <td>690.000000</td>\n",
       "      <td>690.000000</td>\n",
       "      <td>690.00000</td>\n",
       "      <td>690.000000</td>\n",
       "      <td>690.000000</td>\n",
       "      <td>690.000000</td>\n",
       "      <td>690.000000</td>\n",
       "      <td>690.000000</td>\n",
       "    </tr>\n",
       "    <tr>\n",
       "      <th>mean</th>\n",
       "      <td>0.678261</td>\n",
       "      <td>31.568203</td>\n",
       "      <td>4.758725</td>\n",
       "      <td>1.766667</td>\n",
       "      <td>7.372464</td>\n",
       "      <td>4.692754</td>\n",
       "      <td>2.223406</td>\n",
       "      <td>0.523188</td>\n",
       "      <td>0.427536</td>\n",
       "      <td>2.40000</td>\n",
       "      <td>0.457971</td>\n",
       "      <td>1.928986</td>\n",
       "      <td>184.014493</td>\n",
       "      <td>1018.385507</td>\n",
       "      <td>0.444928</td>\n",
       "    </tr>\n",
       "    <tr>\n",
       "      <th>std</th>\n",
       "      <td>0.467482</td>\n",
       "      <td>11.853273</td>\n",
       "      <td>4.978163</td>\n",
       "      <td>0.430063</td>\n",
       "      <td>3.683265</td>\n",
       "      <td>1.992316</td>\n",
       "      <td>3.346513</td>\n",
       "      <td>0.499824</td>\n",
       "      <td>0.495080</td>\n",
       "      <td>4.86294</td>\n",
       "      <td>0.498592</td>\n",
       "      <td>0.298813</td>\n",
       "      <td>172.159274</td>\n",
       "      <td>5210.102598</td>\n",
       "      <td>0.497318</td>\n",
       "    </tr>\n",
       "    <tr>\n",
       "      <th>min</th>\n",
       "      <td>0.000000</td>\n",
       "      <td>13.750000</td>\n",
       "      <td>0.000000</td>\n",
       "      <td>1.000000</td>\n",
       "      <td>1.000000</td>\n",
       "      <td>1.000000</td>\n",
       "      <td>0.000000</td>\n",
       "      <td>0.000000</td>\n",
       "      <td>0.000000</td>\n",
       "      <td>0.00000</td>\n",
       "      <td>0.000000</td>\n",
       "      <td>1.000000</td>\n",
       "      <td>0.000000</td>\n",
       "      <td>1.000000</td>\n",
       "      <td>0.000000</td>\n",
       "    </tr>\n",
       "    <tr>\n",
       "      <th>25%</th>\n",
       "      <td>0.000000</td>\n",
       "      <td>22.670000</td>\n",
       "      <td>1.000000</td>\n",
       "      <td>2.000000</td>\n",
       "      <td>4.000000</td>\n",
       "      <td>4.000000</td>\n",
       "      <td>0.165000</td>\n",
       "      <td>0.000000</td>\n",
       "      <td>0.000000</td>\n",
       "      <td>0.00000</td>\n",
       "      <td>0.000000</td>\n",
       "      <td>2.000000</td>\n",
       "      <td>80.000000</td>\n",
       "      <td>1.000000</td>\n",
       "      <td>0.000000</td>\n",
       "    </tr>\n",
       "    <tr>\n",
       "      <th>50%</th>\n",
       "      <td>1.000000</td>\n",
       "      <td>28.625000</td>\n",
       "      <td>2.750000</td>\n",
       "      <td>2.000000</td>\n",
       "      <td>8.000000</td>\n",
       "      <td>4.000000</td>\n",
       "      <td>1.000000</td>\n",
       "      <td>1.000000</td>\n",
       "      <td>0.000000</td>\n",
       "      <td>0.00000</td>\n",
       "      <td>0.000000</td>\n",
       "      <td>2.000000</td>\n",
       "      <td>160.000000</td>\n",
       "      <td>6.000000</td>\n",
       "      <td>0.000000</td>\n",
       "    </tr>\n",
       "    <tr>\n",
       "      <th>75%</th>\n",
       "      <td>1.000000</td>\n",
       "      <td>37.707500</td>\n",
       "      <td>7.207500</td>\n",
       "      <td>2.000000</td>\n",
       "      <td>10.000000</td>\n",
       "      <td>5.000000</td>\n",
       "      <td>2.625000</td>\n",
       "      <td>1.000000</td>\n",
       "      <td>1.000000</td>\n",
       "      <td>3.00000</td>\n",
       "      <td>1.000000</td>\n",
       "      <td>2.000000</td>\n",
       "      <td>272.000000</td>\n",
       "      <td>396.500000</td>\n",
       "      <td>1.000000</td>\n",
       "    </tr>\n",
       "    <tr>\n",
       "      <th>max</th>\n",
       "      <td>1.000000</td>\n",
       "      <td>80.250000</td>\n",
       "      <td>28.000000</td>\n",
       "      <td>3.000000</td>\n",
       "      <td>14.000000</td>\n",
       "      <td>9.000000</td>\n",
       "      <td>28.500000</td>\n",
       "      <td>1.000000</td>\n",
       "      <td>1.000000</td>\n",
       "      <td>67.00000</td>\n",
       "      <td>1.000000</td>\n",
       "      <td>3.000000</td>\n",
       "      <td>2000.000000</td>\n",
       "      <td>100001.000000</td>\n",
       "      <td>1.000000</td>\n",
       "    </tr>\n",
       "  </tbody>\n",
       "</table>\n",
       "</div>"
      ],
      "text/plain": [
       "               A1          A2          A3          A4          A5          A6  \\\n",
       "count  690.000000  690.000000  690.000000  690.000000  690.000000  690.000000   \n",
       "mean     0.678261   31.568203    4.758725    1.766667    7.372464    4.692754   \n",
       "std      0.467482   11.853273    4.978163    0.430063    3.683265    1.992316   \n",
       "min      0.000000   13.750000    0.000000    1.000000    1.000000    1.000000   \n",
       "25%      0.000000   22.670000    1.000000    2.000000    4.000000    4.000000   \n",
       "50%      1.000000   28.625000    2.750000    2.000000    8.000000    4.000000   \n",
       "75%      1.000000   37.707500    7.207500    2.000000   10.000000    5.000000   \n",
       "max      1.000000   80.250000   28.000000    3.000000   14.000000    9.000000   \n",
       "\n",
       "               A7          A8          A9        A10         A11         A12  \\\n",
       "count  690.000000  690.000000  690.000000  690.00000  690.000000  690.000000   \n",
       "mean     2.223406    0.523188    0.427536    2.40000    0.457971    1.928986   \n",
       "std      3.346513    0.499824    0.495080    4.86294    0.498592    0.298813   \n",
       "min      0.000000    0.000000    0.000000    0.00000    0.000000    1.000000   \n",
       "25%      0.165000    0.000000    0.000000    0.00000    0.000000    2.000000   \n",
       "50%      1.000000    1.000000    0.000000    0.00000    0.000000    2.000000   \n",
       "75%      2.625000    1.000000    1.000000    3.00000    1.000000    2.000000   \n",
       "max     28.500000    1.000000    1.000000   67.00000    1.000000    3.000000   \n",
       "\n",
       "               A13            A14      Target  \n",
       "count   690.000000     690.000000  690.000000  \n",
       "mean    184.014493    1018.385507    0.444928  \n",
       "std     172.159274    5210.102598    0.497318  \n",
       "min       0.000000       1.000000    0.000000  \n",
       "25%      80.000000       1.000000    0.000000  \n",
       "50%     160.000000       6.000000    0.000000  \n",
       "75%     272.000000     396.500000    1.000000  \n",
       "max    2000.000000  100001.000000    1.000000  "
      ]
     },
     "execution_count": 4,
     "metadata": {},
     "output_type": "execute_result"
    }
   ],
   "source": [
    "credit_df.describe()"
   ]
  },
  {
   "cell_type": "code",
   "execution_count": 5,
   "id": "c7a0a826",
   "metadata": {},
   "outputs": [
    {
     "data": {
      "text/plain": [
       "A1        0\n",
       "A2        0\n",
       "A3        0\n",
       "A4        0\n",
       "A5        0\n",
       "A6        0\n",
       "A7        0\n",
       "A8        0\n",
       "A9        0\n",
       "A10       0\n",
       "A11       0\n",
       "A12       0\n",
       "A13       0\n",
       "A14       0\n",
       "Target    0\n",
       "dtype: int64"
      ]
     },
     "execution_count": 5,
     "metadata": {},
     "output_type": "execute_result"
    }
   ],
   "source": [
    "credit_df.isnull().sum()"
   ]
  },
  {
   "cell_type": "code",
   "execution_count": 6,
   "id": "7c2b9cf8",
   "metadata": {},
   "outputs": [
    {
     "data": {
      "text/plain": [
       "A1          int64\n",
       "A2        float64\n",
       "A3        float64\n",
       "A4          int64\n",
       "A5          int64\n",
       "A6          int64\n",
       "A7        float64\n",
       "A8          int64\n",
       "A9          int64\n",
       "A10         int64\n",
       "A11         int64\n",
       "A12         int64\n",
       "A13         int64\n",
       "A14         int64\n",
       "Target      int64\n",
       "dtype: object"
      ]
     },
     "execution_count": 6,
     "metadata": {},
     "output_type": "execute_result"
    }
   ],
   "source": [
    "#Checking the datatypes\n",
    "credit_df.dtypes"
   ]
  },
  {
   "cell_type": "code",
   "execution_count": 7,
   "id": "1b37291d",
   "metadata": {},
   "outputs": [
    {
     "data": {
      "text/plain": [
       "A1        -0.764859\n",
       "A2         1.155935\n",
       "A3         1.488813\n",
       "A4        -1.153455\n",
       "A5        -0.069190\n",
       "A6         0.468412\n",
       "A7         2.891330\n",
       "A8        -0.093056\n",
       "A9         0.293587\n",
       "A10        5.152520\n",
       "A11        0.169081\n",
       "A12       -1.944725\n",
       "A13        2.749912\n",
       "A14       13.140655\n",
       "Target     0.222122\n",
       "dtype: float64"
      ]
     },
     "execution_count": 7,
     "metadata": {},
     "output_type": "execute_result"
    }
   ],
   "source": [
    "credit_df.skew()"
   ]
  },
  {
   "cell_type": "code",
   "execution_count": 8,
   "id": "cda92a01",
   "metadata": {},
   "outputs": [
    {
     "name": "stdout",
     "output_type": "stream",
     "text": [
      "[[0.68873723 0.80105183 1.34711063 ... 0.48835847 0.03738039 0.89530251]\n",
      " [1.45193254 0.75124044 0.45054795 ... 0.13959116 0.19541334 0.89530251]\n",
      " [1.45193254 0.16785619 0.60482292 ... 0.55794344 0.19541334 0.89530251]\n",
      " ...\n",
      " [1.45193254 1.07543661 0.96114643 ... 0.48835847 0.19541334 1.11694091]\n",
      " [1.45193254 0.35021653 1.95822062 ... 0.3721027  0.19330052 1.11694091]\n",
      " [0.68873723 0.79628971 0.94857229 ... 2.18552419 0.19541334 1.11694091]]\n"
     ]
    }
   ],
   "source": [
    "#Removing outliers using z-score\n",
    "#Some columns are observed to have outliers \n",
    "\n",
    "from scipy import stats\n",
    "import numpy as np\n",
    "z = np.abs(stats.zscore(credit_df))\n",
    "print(z)"
   ]
  },
  {
   "cell_type": "code",
   "execution_count": 9,
   "id": "0ca9e23b",
   "metadata": {},
   "outputs": [
    {
     "name": "stdout",
     "output_type": "stream",
     "text": [
      "(array([ 27,  34,  35,  36,  39,  63,  63,  70,  74,  74,  78,  84,  85,\n",
      "        90, 114, 119, 121, 133, 143, 143, 145, 146, 146, 146, 148, 149,\n",
      "       150, 155, 165, 170, 177, 179, 182, 183, 185, 186, 193, 195, 196,\n",
      "       199, 202, 204, 216, 225, 228, 233, 233, 233, 237, 237, 239, 239,\n",
      "       243, 247, 258, 267, 271, 277, 279, 282, 286, 287, 290, 293, 316,\n",
      "       316, 322, 331, 344, 351, 356, 360, 360, 363, 364, 366, 374, 374,\n",
      "       375, 390, 394, 415, 434, 448, 452, 452, 471, 476, 482, 484, 486,\n",
      "       489, 498, 500, 500, 500, 508, 517, 531, 532, 538, 547, 549, 558,\n",
      "       559, 559, 564, 564, 568, 569, 579, 586, 586, 596, 606, 613, 632,\n",
      "       639, 641, 642, 643, 645, 654, 654, 661, 669, 677, 680, 689],\n",
      "      dtype=int64), array([13,  6,  1, 11,  6, 11, 12,  2,  2,  6, 11, 11, 11, 11, 11,  6, 11,\n",
      "       11,  2,  6,  1,  1,  2,  6,  6, 13, 11, 11, 11, 11, 11,  6,  9, 11,\n",
      "       11, 11, 11,  9, 13, 12, 13,  9, 11, 11,  6,  2,  6,  9,  1, 11,  6,\n",
      "       11,  1,  6, 11, 13, 11, 11,  2, 11,  6,  6, 11, 12,  6, 12,  6, 11,\n",
      "       11, 12, 11,  1,  6, 12, 11, 11, 11, 12,  2,  1, 11, 11,  9, 11,  1,\n",
      "       11,  6, 11, 11, 11,  6, 11, 11,  2, 11, 13, 11, 11, 11, 11,  6, 11,\n",
      "       11,  1,  6,  9,  6,  9, 11, 11, 11,  2, 12, 11, 11, 11, 11, 11,  9,\n",
      "        2, 11, 11, 11, 12, 11, 11, 11, 11, 11], dtype=int64))\n",
      "3.2671052811360295\n"
     ]
    }
   ],
   "source": [
    "#The first array contains the list of row numbers and second\n",
    "#array respective column numbers, which mean z[27][13] have a Z-score higher than 3.\n",
    "\n",
    "threshold = 3\n",
    "print(np.where(z > 3))\n",
    "print(z[27][13])"
   ]
  },
  {
   "cell_type": "code",
   "execution_count": 10,
   "id": "43946f43",
   "metadata": {},
   "outputs": [],
   "source": [
    "credit_df = credit_df[(z < 3).all(axis=1)]"
   ]
  },
  {
   "cell_type": "code",
   "execution_count": 11,
   "id": "59e7ddc6",
   "metadata": {},
   "outputs": [
    {
     "data": {
      "text/html": [
       "<div>\n",
       "<style scoped>\n",
       "    .dataframe tbody tr th:only-of-type {\n",
       "        vertical-align: middle;\n",
       "    }\n",
       "\n",
       "    .dataframe tbody tr th {\n",
       "        vertical-align: top;\n",
       "    }\n",
       "\n",
       "    .dataframe thead th {\n",
       "        text-align: right;\n",
       "    }\n",
       "</style>\n",
       "<table border=\"1\" class=\"dataframe\">\n",
       "  <thead>\n",
       "    <tr style=\"text-align: right;\">\n",
       "      <th></th>\n",
       "      <th>A1</th>\n",
       "      <th>A2</th>\n",
       "      <th>A3</th>\n",
       "      <th>A4</th>\n",
       "      <th>A5</th>\n",
       "      <th>A6</th>\n",
       "      <th>A7</th>\n",
       "      <th>A8</th>\n",
       "      <th>A9</th>\n",
       "      <th>A10</th>\n",
       "      <th>A11</th>\n",
       "      <th>A12</th>\n",
       "      <th>A13</th>\n",
       "      <th>A14</th>\n",
       "      <th>Target</th>\n",
       "    </tr>\n",
       "  </thead>\n",
       "  <tbody>\n",
       "    <tr>\n",
       "      <th>0</th>\n",
       "      <td>1</td>\n",
       "      <td>22.08</td>\n",
       "      <td>11.460</td>\n",
       "      <td>2</td>\n",
       "      <td>4</td>\n",
       "      <td>4</td>\n",
       "      <td>1.585</td>\n",
       "      <td>0</td>\n",
       "      <td>0</td>\n",
       "      <td>0</td>\n",
       "      <td>1</td>\n",
       "      <td>2</td>\n",
       "      <td>100</td>\n",
       "      <td>1213</td>\n",
       "      <td>0</td>\n",
       "    </tr>\n",
       "    <tr>\n",
       "      <th>1</th>\n",
       "      <td>0</td>\n",
       "      <td>22.67</td>\n",
       "      <td>7.000</td>\n",
       "      <td>2</td>\n",
       "      <td>8</td>\n",
       "      <td>4</td>\n",
       "      <td>0.165</td>\n",
       "      <td>0</td>\n",
       "      <td>0</td>\n",
       "      <td>0</td>\n",
       "      <td>0</td>\n",
       "      <td>2</td>\n",
       "      <td>160</td>\n",
       "      <td>1</td>\n",
       "      <td>0</td>\n",
       "    </tr>\n",
       "    <tr>\n",
       "      <th>2</th>\n",
       "      <td>0</td>\n",
       "      <td>29.58</td>\n",
       "      <td>1.750</td>\n",
       "      <td>1</td>\n",
       "      <td>4</td>\n",
       "      <td>4</td>\n",
       "      <td>1.250</td>\n",
       "      <td>0</td>\n",
       "      <td>0</td>\n",
       "      <td>0</td>\n",
       "      <td>1</td>\n",
       "      <td>2</td>\n",
       "      <td>280</td>\n",
       "      <td>1</td>\n",
       "      <td>0</td>\n",
       "    </tr>\n",
       "    <tr>\n",
       "      <th>3</th>\n",
       "      <td>0</td>\n",
       "      <td>21.67</td>\n",
       "      <td>11.500</td>\n",
       "      <td>1</td>\n",
       "      <td>5</td>\n",
       "      <td>3</td>\n",
       "      <td>0.000</td>\n",
       "      <td>1</td>\n",
       "      <td>1</td>\n",
       "      <td>11</td>\n",
       "      <td>1</td>\n",
       "      <td>2</td>\n",
       "      <td>0</td>\n",
       "      <td>1</td>\n",
       "      <td>1</td>\n",
       "    </tr>\n",
       "    <tr>\n",
       "      <th>4</th>\n",
       "      <td>1</td>\n",
       "      <td>20.17</td>\n",
       "      <td>8.170</td>\n",
       "      <td>2</td>\n",
       "      <td>6</td>\n",
       "      <td>4</td>\n",
       "      <td>1.960</td>\n",
       "      <td>1</td>\n",
       "      <td>1</td>\n",
       "      <td>14</td>\n",
       "      <td>0</td>\n",
       "      <td>2</td>\n",
       "      <td>60</td>\n",
       "      <td>159</td>\n",
       "      <td>1</td>\n",
       "    </tr>\n",
       "    <tr>\n",
       "      <th>...</th>\n",
       "      <td>...</td>\n",
       "      <td>...</td>\n",
       "      <td>...</td>\n",
       "      <td>...</td>\n",
       "      <td>...</td>\n",
       "      <td>...</td>\n",
       "      <td>...</td>\n",
       "      <td>...</td>\n",
       "      <td>...</td>\n",
       "      <td>...</td>\n",
       "      <td>...</td>\n",
       "      <td>...</td>\n",
       "      <td>...</td>\n",
       "      <td>...</td>\n",
       "      <td>...</td>\n",
       "    </tr>\n",
       "    <tr>\n",
       "      <th>684</th>\n",
       "      <td>1</td>\n",
       "      <td>43.00</td>\n",
       "      <td>0.290</td>\n",
       "      <td>1</td>\n",
       "      <td>13</td>\n",
       "      <td>8</td>\n",
       "      <td>1.750</td>\n",
       "      <td>1</td>\n",
       "      <td>1</td>\n",
       "      <td>8</td>\n",
       "      <td>0</td>\n",
       "      <td>2</td>\n",
       "      <td>100</td>\n",
       "      <td>376</td>\n",
       "      <td>1</td>\n",
       "    </tr>\n",
       "    <tr>\n",
       "      <th>685</th>\n",
       "      <td>1</td>\n",
       "      <td>31.57</td>\n",
       "      <td>10.500</td>\n",
       "      <td>2</td>\n",
       "      <td>14</td>\n",
       "      <td>4</td>\n",
       "      <td>6.500</td>\n",
       "      <td>1</td>\n",
       "      <td>0</td>\n",
       "      <td>0</td>\n",
       "      <td>0</td>\n",
       "      <td>2</td>\n",
       "      <td>0</td>\n",
       "      <td>1</td>\n",
       "      <td>1</td>\n",
       "    </tr>\n",
       "    <tr>\n",
       "      <th>686</th>\n",
       "      <td>1</td>\n",
       "      <td>20.67</td>\n",
       "      <td>0.415</td>\n",
       "      <td>2</td>\n",
       "      <td>8</td>\n",
       "      <td>4</td>\n",
       "      <td>0.125</td>\n",
       "      <td>0</td>\n",
       "      <td>0</td>\n",
       "      <td>0</td>\n",
       "      <td>0</td>\n",
       "      <td>2</td>\n",
       "      <td>0</td>\n",
       "      <td>45</td>\n",
       "      <td>0</td>\n",
       "    </tr>\n",
       "    <tr>\n",
       "      <th>687</th>\n",
       "      <td>0</td>\n",
       "      <td>18.83</td>\n",
       "      <td>9.540</td>\n",
       "      <td>2</td>\n",
       "      <td>6</td>\n",
       "      <td>4</td>\n",
       "      <td>0.085</td>\n",
       "      <td>1</td>\n",
       "      <td>0</td>\n",
       "      <td>0</td>\n",
       "      <td>0</td>\n",
       "      <td>2</td>\n",
       "      <td>100</td>\n",
       "      <td>1</td>\n",
       "      <td>1</td>\n",
       "    </tr>\n",
       "    <tr>\n",
       "      <th>688</th>\n",
       "      <td>0</td>\n",
       "      <td>27.42</td>\n",
       "      <td>14.500</td>\n",
       "      <td>2</td>\n",
       "      <td>14</td>\n",
       "      <td>8</td>\n",
       "      <td>3.085</td>\n",
       "      <td>1</td>\n",
       "      <td>1</td>\n",
       "      <td>1</td>\n",
       "      <td>0</td>\n",
       "      <td>2</td>\n",
       "      <td>120</td>\n",
       "      <td>12</td>\n",
       "      <td>1</td>\n",
       "    </tr>\n",
       "  </tbody>\n",
       "</table>\n",
       "<p>580 rows × 15 columns</p>\n",
       "</div>"
      ],
      "text/plain": [
       "     A1     A2      A3  A4  A5  A6     A7  A8  A9  A10  A11  A12  A13   A14  \\\n",
       "0     1  22.08  11.460   2   4   4  1.585   0   0    0    1    2  100  1213   \n",
       "1     0  22.67   7.000   2   8   4  0.165   0   0    0    0    2  160     1   \n",
       "2     0  29.58   1.750   1   4   4  1.250   0   0    0    1    2  280     1   \n",
       "3     0  21.67  11.500   1   5   3  0.000   1   1   11    1    2    0     1   \n",
       "4     1  20.17   8.170   2   6   4  1.960   1   1   14    0    2   60   159   \n",
       "..   ..    ...     ...  ..  ..  ..    ...  ..  ..  ...  ...  ...  ...   ...   \n",
       "684   1  43.00   0.290   1  13   8  1.750   1   1    8    0    2  100   376   \n",
       "685   1  31.57  10.500   2  14   4  6.500   1   0    0    0    2    0     1   \n",
       "686   1  20.67   0.415   2   8   4  0.125   0   0    0    0    2    0    45   \n",
       "687   0  18.83   9.540   2   6   4  0.085   1   0    0    0    2  100     1   \n",
       "688   0  27.42  14.500   2  14   8  3.085   1   1    1    0    2  120    12   \n",
       "\n",
       "     Target  \n",
       "0         0  \n",
       "1         0  \n",
       "2         0  \n",
       "3         1  \n",
       "4         1  \n",
       "..      ...  \n",
       "684       1  \n",
       "685       1  \n",
       "686       0  \n",
       "687       1  \n",
       "688       1  \n",
       "\n",
       "[580 rows x 15 columns]"
      ]
     },
     "execution_count": 11,
     "metadata": {},
     "output_type": "execute_result"
    }
   ],
   "source": [
    "#Outliers have been removed from this dataset\n",
    "credit_df"
   ]
  },
  {
   "cell_type": "code",
   "execution_count": 12,
   "id": "6c295014",
   "metadata": {},
   "outputs": [],
   "source": [
    "#Declaring category and continous DF's\n",
    "credit_df_cat=credit_df[['A1','A4','A5','A6','A8','A9','A11','A12','Target']]\n",
    "credit_df_cont=credit_df[['A2','A3','A7','A10','A13','A14','Target']]"
   ]
  },
  {
   "cell_type": "markdown",
   "id": "61e09458",
   "metadata": {},
   "source": [
    "## 2.Create a decision tree model tuned to the best of your abilities. Explain how you tuned it."
   ]
  },
  {
   "cell_type": "code",
   "execution_count": 13,
   "id": "8c2e9949",
   "metadata": {},
   "outputs": [],
   "source": [
    "#Importing libraries\n",
    "from sklearn.model_selection import train_test_split\n",
    "from sklearn.tree import DecisionTreeClassifier\n",
    "from sklearn.preprocessing import StandardScaler\n",
    "from sklearn.ensemble import RandomForestClassifier\n",
    "\n",
    "from sklearn.feature_selection import SelectFromModel"
   ]
  },
  {
   "cell_type": "markdown",
   "id": "1d03b2c6",
   "metadata": {},
   "source": [
    "## Checking the model performance without optimizing the parameters"
   ]
  },
  {
   "cell_type": "code",
   "execution_count": 14,
   "id": "9393fe63",
   "metadata": {},
   "outputs": [
    {
     "data": {
      "text/plain": [
       "0.8103448275862069"
      ]
     },
     "execution_count": 14,
     "metadata": {},
     "output_type": "execute_result"
    }
   ],
   "source": [
    "#Setting our dependent(y) and independent (X)variables\n",
    "X = credit_df.drop('Target',axis=1)\n",
    "y = credit_df['Target']\n",
    "\n",
    "#Splitting into test and train\n",
    "X_train, X_test, y_train, y_test = train_test_split(X, y, test_size = 0.2, random_state=42, stratify=y)\n",
    "\n",
    "#Standardize\n",
    "sc= StandardScaler()\n",
    "X_train=sc.fit_transform(X_train)\n",
    "X_test=sc.fit_transform(X_test)\n",
    "\n",
    "\n",
    "#Creating Decision tree function \n",
    "dt = DecisionTreeClassifier(random_state=42)\n",
    "#Fitting the model\n",
    "dt = dt.fit(X_train, y_train)\n",
    "y_pred=dt.predict(X_test)\n",
    "#Checking the trainnig score and test score \n",
    "dt.score(X_test, y_test)\n",
    "#dt.score(X_train,y_train)"
   ]
  },
  {
   "cell_type": "markdown",
   "id": "a2cec9e7",
   "metadata": {},
   "source": [
    "## Checking the model performance after optimizing the parameters using GridSearchCV\n",
    "\n"
   ]
  },
  {
   "cell_type": "markdown",
   "id": "6b01ee62",
   "metadata": {},
   "source": [
    "Grid Search is one of the most basic hyper parameter technique used and so their implementation is quite simple. All possible permutations of the hyper parameters for a particular model are used to build models.\n",
    "\n",
    "\n",
    "When hyper parameters are not given to an algorithm, default values are picked to run the model. This makes hyper parameter tuning one of the critical steps involved in machine learning implementation."
   ]
  },
  {
   "cell_type": "code",
   "execution_count": 15,
   "id": "38d15ed5",
   "metadata": {},
   "outputs": [
    {
     "data": {
      "text/plain": [
       "GridSearchCV(cv=5, estimator=DecisionTreeClassifier(random_state=10),\n",
       "             param_grid={'criterion': ['gini', 'entropy'],\n",
       "                         'max_depth': [2, 3, 4, 5, 6, 10, 20],\n",
       "                         'max_leaf_nodes': [20, 22, 30, 50]},\n",
       "             return_train_score=True, scoring='recall_weighted')"
      ]
     },
     "execution_count": 15,
     "metadata": {},
     "output_type": "execute_result"
    }
   ],
   "source": [
    "#importing libraries \n",
    "#from sklearn.model_selection import RandomizedSearchCV\n",
    "from sklearn.model_selection import GridSearchCV\n",
    "\n",
    "X = credit_df.drop('Target',axis=1)\n",
    "y = credit_df['Target']\n",
    "\n",
    "#Splitting into test and train\n",
    "X_train, X_test, y_train, y_test = train_test_split(X, y, test_size = 0.2, random_state=42, stratify=y)\n",
    "\n",
    "#Standardize\n",
    "sc= StandardScaler()\n",
    "X_train=sc.fit_transform(X_train)\n",
    "X_test=sc.fit_transform(X_test)\n",
    "\n",
    "#Creating Decision tree function \n",
    "dt_clf = DecisionTreeClassifier(random_state=10)\n",
    "\n",
    "#Creating param grid\n",
    "param_grid = {'max_depth': [2, 3, 4, 5,6, 10, 20],\n",
    "             'max_leaf_nodes':[20,22,30,50],'criterion': ['gini','entropy']}\n",
    "\n",
    "#grid_search = RandomizedSearchCV(dt_clf, param_grid, scoring = 'recall_weighted',cv=5, return_train_score=True)\n",
    "grid_search = GridSearchCV(dt_clf, param_grid, scoring = 'recall_weighted',cv=5, return_train_score=True)\n",
    "grid_search.fit(X_train,y_train)"
   ]
  },
  {
   "cell_type": "code",
   "execution_count": 16,
   "id": "969e1fbf",
   "metadata": {},
   "outputs": [
    {
     "data": {
      "text/plain": [
       "{'criterion': 'gini', 'max_depth': 2, 'max_leaf_nodes': 20}"
      ]
     },
     "execution_count": 16,
     "metadata": {},
     "output_type": "execute_result"
    }
   ],
   "source": [
    "grid_search.best_params_"
   ]
  },
  {
   "cell_type": "code",
   "execution_count": 17,
   "id": "15dbe23f",
   "metadata": {},
   "outputs": [
    {
     "data": {
      "text/plain": [
       "0.8728377746610565"
      ]
     },
     "execution_count": 17,
     "metadata": {},
     "output_type": "execute_result"
    }
   ],
   "source": [
    "grid_search.best_score_"
   ]
  },
  {
   "cell_type": "code",
   "execution_count": 18,
   "id": "7c75c6fe",
   "metadata": {},
   "outputs": [
    {
     "name": "stdout",
     "output_type": "stream",
     "text": [
      "decisiontree train accuracy: 0.8728448275862069\n",
      "decisiontree test accuracy: 0.8793103448275862\n",
      "decisiontree recall score train: 0.8825944170771758\n",
      "decisiontree recall score test: 0.8817496229260935\n"
     ]
    }
   ],
   "source": [
    "#Using the best params got after doing gridsearchCV\n",
    "dt_clf = DecisionTreeClassifier(criterion='gini',max_depth=2,max_leaf_nodes=20,random_state=42)\n",
    " \n",
    "#Fitting the model\n",
    "dt_clf.fit(X_train, y_train)\n",
    "\n",
    "#prediction on test set and training set \n",
    "y_pred_test = dt_clf.predict(X_test)\n",
    "y_pred_train = dt_clf.predict(X_train)\n",
    "\n",
    "#Checking train and test score\n",
    "dt_train_acc=dt_clf.score(X_train,y_train)\n",
    "dt_test_acc=dt_clf.score(X_test,y_test)\n",
    "\n",
    "print('decisiontree train accuracy:',dt_train_acc)\n",
    "print('decisiontree test accuracy:',dt_test_acc)\n",
    "\n",
    "from sklearn.metrics import recall_score\n",
    "dt_train_recall_score = recall_score(y_train, y_pred_train, average='macro')\n",
    "dt_test_recall_score = recall_score(y_test, y_pred_test, average='macro')\n",
    "\n",
    "print('decisiontree recall score train:',dt_train_recall_score)\n",
    "print('decisiontree recall score test:',dt_test_recall_score)\n",
    "\n",
    "#from sklearn.metrics import roc_auc_curve\n",
    "#y_pred_prob = dt_clf.predict_proba(X_test)[:,1]\n",
    "\n",
    "#train and test score are similar so there is no sign of overfitting"
   ]
  },
  {
   "cell_type": "code",
   "execution_count": 19,
   "id": "3114b70c",
   "metadata": {},
   "outputs": [
    {
     "name": "stdout",
     "output_type": "stream",
     "text": [
      "Test set ROC AUC score: 0.911\n"
     ]
    }
   ],
   "source": [
    "#Checking ROC_AUC score\n",
    "\n",
    "#best_model = dt_clf.best_estimator_\n",
    "#Impprting libraries\n",
    "from sklearn.metrics import roc_curve\n",
    "from sklearn.metrics import roc_auc_score\n",
    "\n",
    "y_pred_prob = dt_clf.predict_proba(X_test)[:,1]\n",
    "test_roc_auc = roc_auc_score(y_test, y_pred_prob)\n",
    "print('Test set ROC AUC score: {:.3f}'.format(test_roc_auc))\n",
    "\n"
   ]
  },
  {
   "cell_type": "code",
   "execution_count": 21,
   "id": "1e1b99b7",
   "metadata": {},
   "outputs": [
    {
     "ename": "NameError",
     "evalue": "name 'fpr1' is not defined",
     "output_type": "error",
     "traceback": [
      "\u001b[1;31m---------------------------------------------------------------------------\u001b[0m",
      "\u001b[1;31mNameError\u001b[0m                                 Traceback (most recent call last)",
      "\u001b[1;32m<ipython-input-21-3bd2c42a5469>\u001b[0m in \u001b[0;36m<module>\u001b[1;34m\u001b[0m\n\u001b[0;32m      4\u001b[0m \u001b[1;33m\u001b[0m\u001b[0m\n\u001b[0;32m      5\u001b[0m \u001b[1;31m# plot roc curves\u001b[0m\u001b[1;33m\u001b[0m\u001b[1;33m\u001b[0m\u001b[1;33m\u001b[0m\u001b[0m\n\u001b[1;32m----> 6\u001b[1;33m \u001b[0mplt\u001b[0m\u001b[1;33m.\u001b[0m\u001b[0mplot\u001b[0m\u001b[1;33m(\u001b[0m\u001b[0mfpr1\u001b[0m\u001b[1;33m,\u001b[0m \u001b[0mtpr1\u001b[0m\u001b[1;33m,\u001b[0m \u001b[0mlinestyle\u001b[0m\u001b[1;33m=\u001b[0m\u001b[1;34m'--'\u001b[0m\u001b[1;33m,\u001b[0m\u001b[0mcolor\u001b[0m\u001b[1;33m=\u001b[0m\u001b[1;34m'orange'\u001b[0m\u001b[1;33m,\u001b[0m \u001b[0mlabel\u001b[0m\u001b[1;33m=\u001b[0m\u001b[1;34m'Logistic Regression'\u001b[0m\u001b[1;33m)\u001b[0m\u001b[1;33m\u001b[0m\u001b[1;33m\u001b[0m\u001b[0m\n\u001b[0m\u001b[0;32m      7\u001b[0m \u001b[0mplt\u001b[0m\u001b[1;33m.\u001b[0m\u001b[0mplot\u001b[0m\u001b[1;33m(\u001b[0m\u001b[0mfpr2\u001b[0m\u001b[1;33m,\u001b[0m \u001b[0mtpr2\u001b[0m\u001b[1;33m,\u001b[0m \u001b[0mlinestyle\u001b[0m\u001b[1;33m=\u001b[0m\u001b[1;34m'--'\u001b[0m\u001b[1;33m,\u001b[0m\u001b[0mcolor\u001b[0m\u001b[1;33m=\u001b[0m\u001b[1;34m'green'\u001b[0m\u001b[1;33m,\u001b[0m \u001b[0mlabel\u001b[0m\u001b[1;33m=\u001b[0m\u001b[1;34m'KNN'\u001b[0m\u001b[1;33m)\u001b[0m\u001b[1;33m\u001b[0m\u001b[1;33m\u001b[0m\u001b[0m\n\u001b[0;32m      8\u001b[0m \u001b[0mplt\u001b[0m\u001b[1;33m.\u001b[0m\u001b[0mplot\u001b[0m\u001b[1;33m(\u001b[0m\u001b[0mp_fpr\u001b[0m\u001b[1;33m,\u001b[0m \u001b[0mp_tpr\u001b[0m\u001b[1;33m,\u001b[0m \u001b[0mlinestyle\u001b[0m\u001b[1;33m=\u001b[0m\u001b[1;34m'--'\u001b[0m\u001b[1;33m,\u001b[0m \u001b[0mcolor\u001b[0m\u001b[1;33m=\u001b[0m\u001b[1;34m'blue'\u001b[0m\u001b[1;33m)\u001b[0m\u001b[1;33m\u001b[0m\u001b[1;33m\u001b[0m\u001b[0m\n",
      "\u001b[1;31mNameError\u001b[0m: name 'fpr1' is not defined"
     ]
    }
   ],
   "source": [
    "# matplotlib\n",
    "import matplotlib.pyplot as plt\n",
    "plt.style.use('seaborn')\n",
    "\n",
    "# plot roc curves\n",
    "plt.plot(fpr1, tpr1, linestyle='--',color='orange', label='Logistic Regression')\n",
    "plt.plot(fpr2, tpr2, linestyle='--',color='green', label='KNN')\n",
    "plt.plot(p_fpr, p_tpr, linestyle='--', color='blue')\n",
    "# title\n",
    "plt.title('ROC curve')\n",
    "# x label\n",
    "plt.xlabel('False Positive Rate')\n",
    "# y label\n",
    "plt.ylabel('True Positive rate')\n",
    "\n",
    "plt.legend(loc='best')\n",
    "plt.savefig('ROC',dpi=300)\n",
    "plt.show();"
   ]
  },
  {
   "cell_type": "code",
   "execution_count": 22,
   "id": "655d926e",
   "metadata": {},
   "outputs": [
    {
     "name": "stdout",
     "output_type": "stream",
     "text": [
      "              precision    recall  f1-score   support\n",
      "\n",
      "           0       0.92      0.86      0.89        65\n",
      "           1       0.84      0.90      0.87        51\n",
      "\n",
      "    accuracy                           0.88       116\n",
      "   macro avg       0.88      0.88      0.88       116\n",
      "weighted avg       0.88      0.88      0.88       116\n",
      "\n"
     ]
    }
   ],
   "source": [
    "from sklearn.metrics import classification_report\n",
    "print(classification_report(y_test, y_pred_test))"
   ]
  },
  {
   "cell_type": "markdown",
   "id": "f9b0fd21",
   "metadata": {},
   "source": [
    "Constructing Tree "
   ]
  },
  {
   "cell_type": "code",
   "execution_count": 23,
   "id": "4db993aa",
   "metadata": {},
   "outputs": [
    {
     "name": "stdout",
     "output_type": "stream",
     "text": [
      "decisiontree train accuracy: 0.8728448275862069\n",
      "decisiontree test accuracy: 0.8793103448275862\n"
     ]
    },
    {
     "data": {
      "image/png": "[encoded data removed]",
      "text/plain": [
       "<IPython.core.display.Image object>"
      ]
     },
     "execution_count": 23,
     "metadata": {},
     "output_type": "execute_result"
    }
   ],
   "source": [
    "#Using the best params got after doing gridsearchCV in  classifier\n",
    "from sklearn import tree\n",
    "dt_clf = tree.DecisionTreeClassifier(criterion='gini',max_depth=2,max_leaf_nodes=30,random_state=42)\n",
    " \n",
    "#Fitting the model\n",
    "dt_clf.fit(X_train, y_train)\n",
    "\n",
    "#prediction on test set\n",
    "y_pred = dt_clf.predict(X_test)\n",
    "\n",
    "\n",
    "#Checking train and test score\n",
    "dt_train_acc=dt_clf.score(X_train,y_train)\n",
    "dt_test_acc=dt_clf.score(X_test,y_test)\n",
    "\n",
    "print('decisiontree train accuracy:',dt_train_acc)\n",
    "print('decisiontree test accuracy:',dt_test_acc)\n",
    "\n",
    "import os\n",
    "from sklearn import tree\n",
    "import pandas as pd\n",
    "from sklearn.metrics import confusion_matrix, classification_report, plot_confusion_matrix\n",
    "import pydotplus\n",
    "\n",
    "from IPython.display import Image\n",
    "!set PATH=PATH;C:\\path\\to\\anaconda\\Library\\bin\\graphviz\\\n",
    "os.environ['PATH'] = os.environ['PATH']+';'+os.environ['CONDA_PREFIX']+r\"\\Library\\bin\\graphviz\"\n",
    "\n",
    "dot_data = tree.export_graphviz(\n",
    "    dt_clf, out_file =None, feature_names=X.columns, class_names = [\"0\",\"1\"], filled = True)\n",
    "graph = pydotplus.graph_from_dot_data(dot_data)\n",
    "Image(graph.create_png())"
   ]
  },
  {
   "cell_type": "markdown",
   "id": "6cdc4a07",
   "metadata": {},
   "source": [
    "Decision tree splits the nodes on all available variables.It finally selects the split which results in most homegenous sub nodes.Here in our case we are taking gini as our criterion for splitting and max_depth of 2.Higher value of max_depth can cause overfitting."
   ]
  },
  {
   "cell_type": "markdown",
   "id": "192fa2da",
   "metadata": {},
   "source": [
    "Conclusion : \n",
    "\n",
    "After optimizing the parameters using GridsearchCV we could improve the models accuracy.The accuracy has increased \n",
    "significantly by tuning the parameterts. "
   ]
  },
  {
   "cell_type": "markdown",
   "id": "a54eef02",
   "metadata": {},
   "source": [
    "## 3. Create a random forest model tuned to the best of your abilities. Explain how you tuned it."
   ]
  },
  {
   "cell_type": "markdown",
   "id": "ce1f9664",
   "metadata": {},
   "source": [
    "## Feature selection for RandomForest"
   ]
  },
  {
   "cell_type": "code",
   "execution_count": 24,
   "id": "7ef6ec1b",
   "metadata": {},
   "outputs": [
    {
     "name": "stderr",
     "output_type": "stream",
     "text": [
      "c:\\users\\sunny\\appdata\\local\\programs\\python\\python38\\lib\\site-packages\\sklearn\\utils\\validation.py:70: FutureWarning: Pass n_features_to_select=7 as keyword args. From version 1.0 (renaming of 0.25) passing these as positional arguments will result in an error\n",
      "  warnings.warn(f\"Pass {args_msg} as keyword args. From version \"\n"
     ]
    },
    {
     "name": "stdout",
     "output_type": "stream",
     "text": [
      "number of features : 7\n",
      "selected features: [False  True  True False  True False  True  True False  True False False\n",
      " False  True]\n",
      "feature ranking :[7 1 1 5 1 4 1 1 3 1 6 8 2 1]\n"
     ]
    }
   ],
   "source": [
    "#Recursive feature elimination (RFE) is a feature selection method that fits a model and removes the weakest\n",
    "#feature (or features) until the specified number of features is reached\n",
    "\n",
    "from sklearn.feature_selection import RFE \n",
    "from sklearn.ensemble import RandomForestClassifier\n",
    "\n",
    "#Declaring our X and y\n",
    "X = credit_df.drop('Target',axis=1)\n",
    "y = credit_df['Target']\n",
    "\n",
    "#Selecting the estimator which in our case is RandomForestClassifier\n",
    "model = RandomForestClassifier()\n",
    "\n",
    "#Creating RFE function\n",
    "rfe= RFE(model,7)\n",
    "\n",
    "#Fitting the model\n",
    "fit = rfe.fit(X,y)\n",
    "print(\"number of features : %s\" %(fit.n_features_))\n",
    "print(\"selected features: %s\" % (fit.support_))\n",
    "print(\"feature ranking :%s\" % (fit.ranking_))"
   ]
  },
  {
   "cell_type": "markdown",
   "id": "e873d6f0",
   "metadata": {},
   "source": [
    "## Model performance without tuning the parameters "
   ]
  },
  {
   "cell_type": "code",
   "execution_count": 26,
   "id": "a79b2b25",
   "metadata": {},
   "outputs": [
    {
     "data": {
      "text/plain": [
       "0.9195402298850575"
      ]
     },
     "execution_count": 26,
     "metadata": {},
     "output_type": "execute_result"
    }
   ],
   "source": [
    "#Selecting feature with high rank  as given by RFE\n",
    "\n",
    "X = credit_df[['A3', 'A7', 'A8', 'A10','A14','A5','A13']]\n",
    "y =credit_df['Target']\n",
    "\n",
    "# Split into training and test set\n",
    "X_train, X_test, y_train, y_test = train_test_split(X, y, test_size = 0.3, random_state=42, stratify=y)\n",
    "\n",
    "#Standardize\n",
    "sc= StandardScaler()\n",
    "X_train=sc.fit_transform(X_train)\n",
    "X_test=sc.fit_transform(X_test)\n",
    "\n",
    "from sklearn.ensemble import RandomForestClassifier\n",
    "\n",
    "#Creating Random forest function\n",
    "rf = RandomForestClassifier(random_state =42)\n",
    "\n",
    "#Fitting the model\n",
    "rf = rf.fit(X_train, y_train)\n",
    "#Checking the train and test scores \n",
    "rf.score(X_test, y_test)\n",
    "#rf.score(X_train,y_train)"
   ]
  },
  {
   "cell_type": "code",
   "execution_count": 27,
   "id": "abb77fdd",
   "metadata": {},
   "outputs": [
    {
     "name": "stdout",
     "output_type": "stream",
     "text": [
      "              precision    recall  f1-score   support\n",
      "\n",
      "           0       0.92      0.94      0.93        98\n",
      "           1       0.92      0.89      0.91        76\n",
      "\n",
      "    accuracy                           0.92       174\n",
      "   macro avg       0.92      0.92      0.92       174\n",
      "weighted avg       0.92      0.92      0.92       174\n",
      "\n"
     ]
    }
   ],
   "source": [
    "#Classification report \n",
    "from sklearn.metrics import classification_report\n",
    "predictions = rf.predict(X_test)\n",
    "print(classification_report(y_test, predictions))"
   ]
  },
  {
   "cell_type": "markdown",
   "id": "815d2bf3",
   "metadata": {},
   "source": [
    "## Model performance after tuning the parameters using RandomizedSearchCV"
   ]
  },
  {
   "cell_type": "markdown",
   "id": "acd7d61c",
   "metadata": {},
   "source": [
    "RandomizedSearchCV only few samples are randomly selected.\n",
    "\n",
    "When hyper parameters are not given to an algorithm, default values are picked to run the model. This makes hyper parameter tuning one of the critical steps involved in machine learning implementation."
   ]
  },
  {
   "cell_type": "code",
   "execution_count": 28,
   "id": "313390d0",
   "metadata": {},
   "outputs": [
    {
     "name": "stdout",
     "output_type": "stream",
     "text": [
      "Fitting 5 folds for each of 10 candidates, totalling 50 fits\n"
     ]
    },
    {
     "data": {
      "text/plain": [
       "RandomizedSearchCV(cv=5, estimator=RandomForestClassifier(random_state=10),\n",
       "                   n_jobs=-1,\n",
       "                   param_distributions={'max_depth': [2, 8, 16, 32],\n",
       "                                        'max_features': ['auto', 'sqrt',\n",
       "                                                         'log2'],\n",
       "                                        'min_samples_leaf': [2, 4, 6, 8, 10],\n",
       "                                        'min_samples_split': [2, 4, 6, 8, 10],\n",
       "                                        'n_estimators': [1, 2, 4, 8, 16, 32, 64,\n",
       "                                                         100, 200]},\n",
       "                   random_state=10, verbose=2)"
      ]
     },
     "execution_count": 28,
     "metadata": {},
     "output_type": "execute_result"
    }
   ],
   "source": [
    "#importing libraries\n",
    "from sklearn.ensemble import RandomForestClassifier\n",
    "from sklearn.model_selection import RandomizedSearchCV\n",
    "\n",
    "\n",
    "X = credit_df[['A3', 'A7', 'A8', 'A10','A14','A5','A13']]\n",
    "y =credit_df['Target']\n",
    "\n",
    "# Split into training and test set\n",
    "X_train, X_test, y_train, y_test = train_test_split(X, y, test_size = 0.3, random_state=42, stratify=y)\n",
    "\n",
    "#Standardize\n",
    "sc= StandardScaler()\n",
    "X_train=sc.fit_transform(X_train)\n",
    "X_test=sc.fit_transform(X_test)\n",
    "\n",
    "\n",
    "#Creating Random forest  function \n",
    "rf_clf = RandomForestClassifier(random_state=10)\n",
    "\n",
    "#Creating param grid  \n",
    "param_grid =  {\n",
    "                'min_samples_leaf': [2,4,6,8,10],\n",
    "                'n_estimators' :[1,2,4,8,16,32,64,100,200],\n",
    "                'max_depth': [2,8,16,32],\n",
    "                'max_features':['auto','sqrt','log2'],\n",
    "                'min_samples_split' : [2,4,6,8,10]\n",
    "             \n",
    "               }\n",
    "    \n",
    "    \n",
    "    \n",
    "            \n",
    "grid_search = RandomizedSearchCV(rf_clf, param_grid,cv=5,verbose=2,random_state=10,n_jobs=-1) #-1 means using all processors\n",
    "grid_search.fit(X_train,y_train)"
   ]
  },
  {
   "cell_type": "code",
   "execution_count": 30,
   "id": "d9676049",
   "metadata": {},
   "outputs": [
    {
     "data": {
      "text/plain": [
       "{'n_estimators': 16,\n",
       " 'min_samples_split': 4,\n",
       " 'min_samples_leaf': 4,\n",
       " 'max_features': 'auto',\n",
       " 'max_depth': 8}"
      ]
     },
     "execution_count": 30,
     "metadata": {},
     "output_type": "execute_result"
    }
   ],
   "source": [
    "grid_search.best_params_"
   ]
  },
  {
   "cell_type": "code",
   "execution_count": 31,
   "id": "2a01db98",
   "metadata": {},
   "outputs": [
    {
     "data": {
      "text/plain": [
       "0.8891598915989161"
      ]
     },
     "execution_count": 31,
     "metadata": {},
     "output_type": "execute_result"
    }
   ],
   "source": [
    "grid_search.best_score_"
   ]
  },
  {
   "cell_type": "code",
   "execution_count": 32,
   "id": "4ced2215",
   "metadata": {},
   "outputs": [
    {
     "name": "stdout",
     "output_type": "stream",
     "text": [
      "randomforest  train accuracy: 0.9310344827586207\n",
      "randomforest  test accuracy: 0.9137931034482759\n"
     ]
    }
   ],
   "source": [
    "#Using the best params got after doing gridsearchCV\n",
    "rf_clf = RandomForestClassifier(min_samples_split=4,max_depth=8,min_samples_leaf=4,n_estimators=16,max_features='auto')\n",
    "\n",
    "#Fitting the model\n",
    "rf_clf.fit(X_train, y_train)\n",
    "\n",
    "#prediction on test set and training set \n",
    "y_pred_test = rf_clf.predict(X_test)\n",
    "y_pred_train = rf_clf.predict(X_train)\n",
    "\n",
    "rf_train_acc =rf_clf.score(X_train,y_train)\n",
    "rf_test_acc=rf_clf.score(X_test,y_test)\n",
    "\n",
    "print('randomforest  train accuracy:',rf_train_acc)\n",
    "print('randomforest  test accuracy:',rf_test_acc)"
   ]
  },
  {
   "cell_type": "code",
   "execution_count": 35,
   "id": "af2aaa31",
   "metadata": {},
   "outputs": [
    {
     "name": "stdout",
     "output_type": "stream",
     "text": [
      "Test set ROC AUC score: 0.955\n"
     ]
    }
   ],
   "source": [
    "#Checking ROC_AUC score\n",
    "\n",
    "#best_model = dt_clf.best_estimator_\n",
    "#Impprting libraries\n",
    "from sklearn.metrics import roc_curve\n",
    "from sklearn.metrics import roc_auc_score\n",
    "\n",
    "y_pred_prob = rf_clf.predict_proba(X_test)[:,1]\n",
    "test_roc_auc = roc_auc_score(y_test, y_pred_prob)\n",
    "print('Test set ROC AUC score: {:.3f}'.format(test_roc_auc))"
   ]
  },
  {
   "cell_type": "code",
   "execution_count": 33,
   "id": "d35575d6",
   "metadata": {},
   "outputs": [
    {
     "name": "stdout",
     "output_type": "stream",
     "text": [
      "randomforest recall score train: 0.9438202247191011\n",
      "randomforest recall score test: 0.9078947368421053\n"
     ]
    }
   ],
   "source": [
    "from sklearn.metrics import recall_score\n",
    "rf_train_recall_score = recall_score(y_train, y_pred_train)\n",
    "rf_test_recall_score = recall_score(y_test, y_pred_test)\n",
    "\n",
    "print('randomforest recall score train:',rf_train_recall_score)\n",
    "print('randomforest recall score test:',rf_test_recall_score)"
   ]
  },
  {
   "cell_type": "code",
   "execution_count": 36,
   "id": "73431f41",
   "metadata": {},
   "outputs": [
    {
     "name": "stdout",
     "output_type": "stream",
     "text": [
      "              precision    recall  f1-score   support\n",
      "\n",
      "           0       0.93      0.92      0.92        98\n",
      "           1       0.90      0.91      0.90        76\n",
      "\n",
      "    accuracy                           0.91       174\n",
      "   macro avg       0.91      0.91      0.91       174\n",
      "weighted avg       0.91      0.91      0.91       174\n",
      "\n"
     ]
    }
   ],
   "source": [
    "from sklearn.metrics import classification_report\n",
    "y_pred_test = rf_clf.predict(X_test)\n",
    "print(classification_report(y_test, y_pred_test))"
   ]
  },
  {
   "cell_type": "markdown",
   "id": "4919ecc1",
   "metadata": {},
   "source": [
    "Conclusion :\n",
    "\n",
    "After optimizing the parameters using RandomizedSearcHCV we could improve the models accuracy.The accuracy has increased significantly by tuning the parameterts."
   ]
  },
  {
   "cell_type": "markdown",
   "id": "8d27a504",
   "metadata": {},
   "source": [
    "## 4.\tCreate an xgboost model tuned to the best of your abilities. Explain how you tuned it"
   ]
  },
  {
   "cell_type": "markdown",
   "id": "fa547964",
   "metadata": {},
   "source": [
    "## Model performance without tuning the parameters"
   ]
  },
  {
   "cell_type": "code",
   "execution_count": 37,
   "id": "b9a9c64d",
   "metadata": {},
   "outputs": [
    {
     "name": "stderr",
     "output_type": "stream",
     "text": [
      "c:\\users\\sunny\\appdata\\local\\programs\\python\\python38\\lib\\site-packages\\xgboost\\sklearn.py:1146: UserWarning: The use of label encoder in XGBClassifier is deprecated and will be removed in a future release. To remove this warning, do the following: 1) Pass option use_label_encoder=False when constructing XGBClassifier object; and 2) Encode your labels (y) as integers starting with 0, i.e. 0, 1, 2, ..., [num_class - 1].\n",
      "  warnings.warn(label_encoder_deprecation_msg, UserWarning)\n"
     ]
    },
    {
     "name": "stdout",
     "output_type": "stream",
     "text": [
      "[08:47:29] WARNING: C:/Users/Administrator/workspace/xgboost-win64_release_1.4.0/src/learner.cc:1095: Starting in XGBoost 1.3.0, the default evaluation metric used with the objective 'binary:logistic' was changed from 'error' to 'logloss'. Explicitly set eval_metric if you'd like to restore the old behavior.\n",
      "0.896551724137931\n"
     ]
    }
   ],
   "source": [
    "from xgboost import XGBClassifier\n",
    "#splitting X and y \n",
    "X = credit_df.drop('Target',axis=1)\n",
    "y = credit_df['Target']\n",
    "\n",
    "X_train, X_test, y_train, y_test = train_test_split(X, y, test_size = 0.2, random_state=42, stratify=y)\n",
    "\n",
    "#Standardize\n",
    "sc= StandardScaler()\n",
    "X_train=sc.fit_transform(X_train)\n",
    "X_test=sc.fit_transform(X_test)\n",
    "\n",
    "\n",
    "#fit model \n",
    "model = XGBClassifier(random_state=42 )\n",
    "model.fit(X_train, y_train)\n",
    "\n",
    "y_pred = model.predict(X_test)\n",
    "predictions = [round(value) for value in y_pred]\n",
    "#print(model.score(X_train,y_train))\n",
    "print(model.score(X_test,y_test))"
   ]
  },
  {
   "cell_type": "markdown",
   "id": "fdd85b67",
   "metadata": {},
   "source": [
    "## Model performance after trainnig the parameters using RandomizedSearchCV"
   ]
  },
  {
   "cell_type": "markdown",
   "id": "2c5f9429",
   "metadata": {},
   "source": [
    "RandomizedSearchCV only few samples are randomly selected.\n",
    "\n",
    "When hyper parameters are not given to an algorithm, default values are picked to run the model. This makes hyper parameter tuning one of the critical steps involved in machine learning implementation."
   ]
  },
  {
   "cell_type": "code",
   "execution_count": 38,
   "id": "f7014353",
   "metadata": {},
   "outputs": [
    {
     "name": "stdout",
     "output_type": "stream",
     "text": [
      "Fitting 5 folds for each of 10 candidates, totalling 50 fits\n",
      "[08:47:39] WARNING: C:/Users/Administrator/workspace/xgboost-win64_release_1.4.0/src/learner.cc:1095: Starting in XGBoost 1.3.0, the default evaluation metric used with the objective 'binary:logistic' was changed from 'error' to 'logloss'. Explicitly set eval_metric if you'd like to restore the old behavior.\n"
     ]
    },
    {
     "name": "stderr",
     "output_type": "stream",
     "text": [
      "c:\\users\\sunny\\appdata\\local\\programs\\python\\python38\\lib\\site-packages\\xgboost\\sklearn.py:1146: UserWarning: The use of label encoder in XGBClassifier is deprecated and will be removed in a future release. To remove this warning, do the following: 1) Pass option use_label_encoder=False when constructing XGBClassifier object; and 2) Encode your labels (y) as integers starting with 0, i.e. 0, 1, 2, ..., [num_class - 1].\n",
      "  warnings.warn(label_encoder_deprecation_msg, UserWarning)\n"
     ]
    },
    {
     "data": {
      "text/plain": [
       "RandomizedSearchCV(estimator=XGBClassifier(base_score=None, booster=None,\n",
       "                                           colsample_bylevel=None,\n",
       "                                           colsample_bynode=None,\n",
       "                                           colsample_bytree=None, gamma=None,\n",
       "                                           gpu_id=None, importance_type='gain',\n",
       "                                           interaction_constraints=None,\n",
       "                                           learning_rate=None,\n",
       "                                           max_delta_step=None, max_depth=None,\n",
       "                                           min_child_weight=None, missing=nan,\n",
       "                                           monotone_constraints=None,\n",
       "                                           n_estimators=100, n_job...\n",
       "                                           random_state=42, reg_alpha=None,\n",
       "                                           reg_lambda=None,\n",
       "                                           scale_pos_weight=None,\n",
       "                                           subsample=None, tree_method=None,\n",
       "                                           validate_parameters=None,\n",
       "                                           verbosity=None),\n",
       "                   n_jobs=-1,\n",
       "                   param_distributions={'gamma': [0, 0.1, 0.2, 0.3],\n",
       "                                        'learning_rate': [0.1, 0.01, 0.3],\n",
       "                                        'max_depth': [3, 7, 9],\n",
       "                                        'min_child_weight': [4, 5, 6],\n",
       "                                        'reg_alpha': [1e-05, 0.01, 0.1, 1, 100],\n",
       "                                        'subsample': [0.1, 0.5, 0.8]},\n",
       "                   random_state=42, verbose=2)"
      ]
     },
     "execution_count": 38,
     "metadata": {},
     "output_type": "execute_result"
    }
   ],
   "source": [
    "from xgboost import XGBClassifier\n",
    "from sklearn.model_selection import RandomizedSearchCV\n",
    "model = XGBClassifier(random_state=42 )\n",
    "param_grid = {\n",
    "             \"gamma\": [0,0.1,0.2,0.3],\n",
    "             \"subsample\":[0.1,0.5,0.8],\n",
    "             \"max_depth\":[3,7,9],\n",
    "             \"learning_rate\":[0.1,0.01,0.3],\n",
    "             \"min_child_weight\" :[4,5,6],\n",
    "             \"reg_alpha\":[1e-5, 1e-2, 0.1, 1, 100]\n",
    "    \n",
    "             }\n",
    "\n",
    "\n",
    "\n",
    "grid_search = RandomizedSearchCV(model,param_grid, n_jobs = -1, verbose = 2,random_state=42)\n",
    "grid_search.fit(X_train,y_train)\n"
   ]
  },
  {
   "cell_type": "code",
   "execution_count": 39,
   "id": "b171bd46",
   "metadata": {},
   "outputs": [
    {
     "data": {
      "text/plain": [
       "{'subsample': 0.5,\n",
       " 'reg_alpha': 0.01,\n",
       " 'min_child_weight': 5,\n",
       " 'max_depth': 9,\n",
       " 'learning_rate': 0.01,\n",
       " 'gamma': 0.3}"
      ]
     },
     "execution_count": 39,
     "metadata": {},
     "output_type": "execute_result"
    }
   ],
   "source": [
    "grid_search.best_params_"
   ]
  },
  {
   "cell_type": "code",
   "execution_count": 40,
   "id": "bf6517be",
   "metadata": {},
   "outputs": [
    {
     "data": {
      "text/plain": [
       "0.8857877512856476"
      ]
     },
     "execution_count": 40,
     "metadata": {},
     "output_type": "execute_result"
    }
   ],
   "source": [
    "grid_search.best_score_"
   ]
  },
  {
   "cell_type": "code",
   "execution_count": 41,
   "id": "90667e1a",
   "metadata": {},
   "outputs": [
    {
     "name": "stdout",
     "output_type": "stream",
     "text": [
      "[08:47:47] WARNING: C:/Users/Administrator/workspace/xgboost-win64_release_1.4.0/src/learner.cc:1095: Starting in XGBoost 1.3.0, the default evaluation metric used with the objective 'binary:logistic' was changed from 'error' to 'logloss'. Explicitly set eval_metric if you'd like to restore the old behavior.\n",
      "XGBoost train accuracy: 0.8879310344827587\n",
      "XGBoost test accuracy: 0.8793103448275862\n",
      "randomforest recall score train: 0.9556650246305419\n",
      "randomforest recall score test: 0.9019607843137255\n"
     ]
    }
   ],
   "source": [
    "#Using the best params got after doing gridsearchCV\n",
    "model = XGBClassifier(learning_rate=0.01,max_depth=9,min_child_weight=5,subsample=0.5,gamma=0.3,reg_alpha=0.01,random_state=42)\n",
    " \n",
    "\n",
    "#Fitting the model \n",
    "model.fit(X_train, y_train)\n",
    "\n",
    "#predicting on test and train\n",
    "y_pred_test = model.predict(X_test)\n",
    "y_pred_train = model.predict(X_train)\n",
    "\n",
    "\n",
    "\n",
    "xgb_train_acc=model.score(X_train,y_train)\n",
    "xgb_test_acc=model.score(X_test,y_test)\n",
    "\n",
    "print('XGBoost train accuracy:',xgb_train_acc)\n",
    "print('XGBoost test accuracy:',xgb_test_acc)\n",
    "\n",
    "\n",
    "from sklearn.metrics import recall_score\n",
    "xgb_train_recall_score = recall_score(y_train, y_pred_train)\n",
    "xgb_test_recall_score = recall_score(y_test, y_pred_test)\n",
    "\n",
    "print('randomforest recall score train:',xgb_train_recall_score)\n",
    "print('randomforest recall score test:',xgb_test_recall_score)\n"
   ]
  },
  {
   "cell_type": "code",
   "execution_count": 42,
   "id": "4b15ae99",
   "metadata": {},
   "outputs": [
    {
     "name": "stdout",
     "output_type": "stream",
     "text": [
      "Test set ROC AUC score: 0.940\n"
     ]
    }
   ],
   "source": [
    "#Checking ROC_AUC score\n",
    "\n",
    "#best_model = dt_clf.best_estimator_\n",
    "#Impprting libraries\n",
    "from sklearn.metrics import roc_curve\n",
    "from sklearn.metrics import roc_auc_score\n",
    "\n",
    "y_pred_prob = model.predict_proba(X_test)[:,1]\n",
    "test_roc_auc = roc_auc_score(y_test, y_pred_prob)\n",
    "print('Test set ROC AUC score: {:.3f}'.format(test_roc_auc))"
   ]
  },
  {
   "cell_type": "markdown",
   "id": "2e676c3b",
   "metadata": {},
   "source": [
    "Conclusion :\n",
    "\n",
    "After optimizing the parameters using RandomizedSearcHCV we could improve the model accuracy.The accuracy has increased significantly by tuning the parameters."
   ]
  },
  {
   "cell_type": "markdown",
   "id": "c2adb7a9",
   "metadata": {},
   "source": [
    "## 5.\tWhich model performed best? What is your performance metric? Why? "
   ]
  },
  {
   "cell_type": "code",
   "execution_count": 51,
   "id": "cfb4f0a7",
   "metadata": {},
   "outputs": [
    {
     "data": {
      "text/html": [
       "<div>\n",
       "<style scoped>\n",
       "    .dataframe tbody tr th:only-of-type {\n",
       "        vertical-align: middle;\n",
       "    }\n",
       "\n",
       "    .dataframe tbody tr th {\n",
       "        vertical-align: top;\n",
       "    }\n",
       "\n",
       "    .dataframe thead th {\n",
       "        text-align: right;\n",
       "    }\n",
       "</style>\n",
       "<table border=\"1\" class=\"dataframe\">\n",
       "  <thead>\n",
       "    <tr style=\"text-align: right;\">\n",
       "      <th></th>\n",
       "      <th>Model</th>\n",
       "      <th>train_acc</th>\n",
       "      <th>test_acc</th>\n",
       "    </tr>\n",
       "  </thead>\n",
       "  <tbody>\n",
       "    <tr>\n",
       "      <th>1</th>\n",
       "      <td>Random Forest</td>\n",
       "      <td>0.931034</td>\n",
       "      <td>0.913793</td>\n",
       "    </tr>\n",
       "    <tr>\n",
       "      <th>2</th>\n",
       "      <td>XGBoost</td>\n",
       "      <td>0.887931</td>\n",
       "      <td>0.879310</td>\n",
       "    </tr>\n",
       "    <tr>\n",
       "      <th>0</th>\n",
       "      <td>Decision Tree</td>\n",
       "      <td>0.872845</td>\n",
       "      <td>0.879310</td>\n",
       "    </tr>\n",
       "  </tbody>\n",
       "</table>\n",
       "</div>"
      ],
      "text/plain": [
       "           Model  train_acc  test_acc\n",
       "1  Random Forest   0.931034  0.913793\n",
       "2        XGBoost   0.887931  0.879310\n",
       "0  Decision Tree   0.872845  0.879310"
      ]
     },
     "execution_count": 51,
     "metadata": {},
     "output_type": "execute_result"
    }
   ],
   "source": [
    "models = pd.DataFrame({'Model' : ['Decision Tree','Random Forest','XGBoost'],\n",
    "                      'train_acc' : [dt_train_acc,rf_train_acc ,xgb_train_acc],\n",
    "                      'test_acc': [dt_test_acc,rf_test_acc,xgb_test_acc]})\n",
    "models\n",
    "models.sort_values(by='train_acc',ascending=False)"
   ]
  },
  {
   "cell_type": "markdown",
   "id": "f56c07a5",
   "metadata": {},
   "source": [
    "WE can predict that Random Forest has performed the best out of the three models giving test accuracy of around 91%.And also the ROC AUC score is coming out to be 0.955. \n",
    "\n",
    "Performance metric for this case would be Recall. Recall is a performance metric which attempts to answer the question: What proportion of actual positives was identified correctly? Mathematically, the formula is\n",
    "\n",
    "$RecallScore = \\frac{TP}{TP + FN}$\n",
    "\n",
    "TP = True Positive, or a correctly predicted default\n",
    "\n",
    "FN = False Negative, or an incorrectly predicted non-default\n",
    "\n",
    "Ideally, we do not want to miss any potentially defaults to fall through the cracks, so our optimal model will minimize False Negatives (optimize Recall Score)"
   ]
  },
  {
   "cell_type": "code",
   "execution_count": null,
   "id": "65e94998",
   "metadata": {},
   "outputs": [],
   "source": []
  },
  {
   "cell_type": "code",
   "execution_count": null,
   "id": "c9a3259b",
   "metadata": {},
   "outputs": [],
   "source": []
  },
  {
   "cell_type": "code",
   "execution_count": null,
   "id": "15a2c463",
   "metadata": {},
   "outputs": [],
   "source": []
  },
  {
   "cell_type": "code",
   "execution_count": null,
   "id": "9dfe82ea",
   "metadata": {},
   "outputs": [],
   "source": []
  },
  {
   "cell_type": "code",
   "execution_count": null,
   "id": "9d1f9ea0",
   "metadata": {},
   "outputs": [],
   "source": []
  },
  {
   "cell_type": "code",
   "execution_count": null,
   "id": "cab72b65",
   "metadata": {},
   "outputs": [],
   "source": []
  },
  {
   "cell_type": "code",
   "execution_count": null,
   "id": "0a80a05e",
   "metadata": {},
   "outputs": [],
   "source": []
  },
  {
   "cell_type": "code",
   "execution_count": null,
   "id": "ee270f79",
   "metadata": {},
   "outputs": [],
   "source": []
  },
  {
   "cell_type": "code",
   "execution_count": null,
   "id": "67f032be",
   "metadata": {},
   "outputs": [],
   "source": []
  },
  {
   "cell_type": "code",
   "execution_count": null,
   "id": "48ac44a5",
   "metadata": {},
   "outputs": [],
   "source": []
  },
  {
   "cell_type": "code",
   "execution_count": null,
   "id": "f3d98a54",
   "metadata": {},
   "outputs": [],
   "source": []
  },
  {
   "cell_type": "code",
   "execution_count": null,
   "id": "613bc98d",
   "metadata": {},
   "outputs": [],
   "source": []
  },
  {
   "cell_type": "code",
   "execution_count": null,
   "id": "c1b1df03",
   "metadata": {},
   "outputs": [],
   "source": []
  },
  {
   "cell_type": "code",
   "execution_count": null,
   "id": "2fd05a1e",
   "metadata": {},
   "outputs": [],
   "source": []
  },
  {
   "cell_type": "code",
   "execution_count": null,
   "id": "020476ee",
   "metadata": {},
   "outputs": [],
   "source": []
  },
  {
   "cell_type": "code",
   "execution_count": null,
   "id": "cf4de124",
   "metadata": {},
   "outputs": [],
   "source": []
  }
 ],
 "metadata": {
  "kernelspec": {
   "display_name": "Python 3",
   "language": "python",
   "name": "python3"
  },
  "language_info": {
   "codemirror_mode": {
    "name": "ipython",
    "version": 3
   },
   "file_extension": ".py",
   "mimetype": "text/x-python",
   "name": "python",
   "nbconvert_exporter": "python",
   "pygments_lexer": "ipython3",
   "version": "3.8.9"
  }
 },
 "nbformat": 4,
 "nbformat_minor": 5
}
